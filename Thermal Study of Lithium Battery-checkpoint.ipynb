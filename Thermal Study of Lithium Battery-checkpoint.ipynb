{
 "cells": [
  {
   "cell_type": "markdown",
   "metadata": {},
   "source": [
    "# Thermal Study of Lithium Battery\n",
    "### PH 213 Fall 2020\n",
    "### Ben Ruland\n",
    "\n",
    "    The purpose of this study will be to explore the relationship current has on battery temperatures during charging. To begin the study I will need to model the most basic approach as well as set up a circut to obtain experimental data\n",
    "  "
   ]
  },
  {
   "cell_type": "markdown",
   "metadata": {},
   "source": [
    "    Our first task will be to mathematicall describe the relationship in its most simple terms. Below is a table to keep easier track of variables and their units.\n",
    "\n",
    "| Variable | Representing | Unit |\n",
    "| :- | :-: | :-: |\n",
    "| $H$ | energy | Joules |\n",
    "| $I$ | current | amperes |\n",
    "| $R$ | resistance | ohms |\n",
    "| $t$ | time | seconds |\n",
    "| $m$ | mass | kilograms |\n",
    "| $T_{i}$ | temp intial | degree Celsius |\n",
    "| $T_{f}$ | temp final | degree Celsius |\n",
    "| $c$ | specific heat capacity | $\\frac{J}{Kg*C^{\\circ}}$ \n",
    "\n",
    "\n"
   ]
  },
  {
   "cell_type": "markdown",
   "metadata": {},
   "source": [
    "<div align = \"center\" >We will ignore any cooling done for the moment. </div>  \n",
    "<p>&nbsp;</p>\n",
    "\n",
    "<div align = \"center\" >Using Joule's equation </div>  \n",
    "$$ P = I^{2}R $$\n",
    "<p>&nbsp:</p>\n",
    "\n",
    "<div align = \"center\" >We know Energy is Power over Time therefore</div>  \n",
    "$$ H = I^{2}Rt $$\n",
    "<p>&nbsp;</p>\n",
    "\n",
    "<div align = \"center\" >Combining with our heat transfer equation</div>  \n",
    "$$I^{2}Rt = mc(T_{f}-T_{i})$$\n",
    "\n",
    "$$I^{2}Rt = mcT_{f} - mcT_{i}$$\n",
    "\n",
    "$$I^{2}R = \\frac {mcT_{f} - mcT_{i}}{t}$$\n",
    "\n",
    "<p> For those that don't know the internal resistance of a battery lessens as its temperature rises. For now we will ignore this. Resistance then is constant, our current will be prechosen, mass and specific heat capactiy will be constants as well. This gives us the only changing variables to be time and our temperature. Using an iterative solution we can loop over each second, solving for final temp and using our return from our previous iteration as our initial conditions. While it will create a quadratic order of growth we can nest the operation inside of another iteration to walk over the pre chosen currents thus returning us several data arrays that can be modeled. "
   ]
  },
  {
   "cell_type": "code",
   "execution_count": null,
   "metadata": {},
   "outputs": [],
   "source": []
  },
  {
   "cell_type": "code",
   "execution_count": null,
   "metadata": {},
   "outputs": [],
   "source": []
  }
 ],
 "metadata": {
  "kernelspec": {
   "display_name": "Python 3",
   "language": "python",
   "name": "python3"
  },
  "language_info": {
   "codemirror_mode": {
    "name": "ipython",
    "version": 3
   },
   "file_extension": ".py",
   "mimetype": "text/x-python",
   "name": "python",
   "nbconvert_exporter": "python",
   "pygments_lexer": "ipython3",
   "version": "3.7.6"
  }
 },
 "nbformat": 4,
 "nbformat_minor": 4
}
